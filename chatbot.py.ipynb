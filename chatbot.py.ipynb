{
 "cells": [
  {
   "cell_type": "code",
   "execution_count": null,
   "metadata": {},
   "outputs": [
    {
     "name": "stdout",
     "output_type": "stream",
     "text": [
      "List Trainer: [####################] 100%\n",
      "List Trainer: [####################] 100%\n",
      "List Trainer: [####################] 100%\n",
      "List Trainer: [####################] 100%\n",
      "List Trainer: [####################] 100%\n",
      "List Trainer: [####################] 100%\n",
      "List Trainer: [####################] 100%\n",
      "List Trainer: [####################] 100%\n",
      "List Trainer: [####################] 100%\n",
      "List Trainer: [####################] 100%\n",
      "List Trainer: [####################] 100%\n",
      "List Trainer: [####################] 100%\n",
      "List Trainer: [####################] 100%\n",
      "List Trainer: [####################] 100%\n",
      "List Trainer: [####################] 100%\n",
      "List Trainer: [####################] 100%\n",
      "List Trainer: [####################] 100%\n",
      "List Trainer: [####################] 100%\n",
      "You :hello\n",
      "Jarvis replied : how r u\n",
      "You :What's up?\n",
      "Jarvis replied : - Not much.\n",
      "You :You are a robot?\n",
      "Jarvis replied : what do you know about me?\n",
      "You :Who are u?\n",
      "Jarvis replied : you know you are a robot?\n"
     ]
    }
   ],
   "source": [
    "#!/usr/bin/python3\n",
    "from chatterbot import ChatBot#import the chatbot\n",
    "from chatterbot.trainers import ListTrainer#method to train the chatterbot\n",
    "import os\n",
    "jarvis = ChatBot('Test')#create the chatbot\n",
    "jarvis.set_trainer(ListTrainer)\n",
    "#here I download chatterbot-corpus master file and import the path\n",
    "for files in os.listdir('/home/nikita/Desktop/chatterbot-corpus-master/chatterbot_corpus/data/english/'):\n",
    "    #reading the data from corpus file\n",
    "    data=open('/home/nikita/Desktop/chatterbot-corpus-master/chatterbot_corpus/data/english/' + files ,'r').readlines()\n",
    "    jarvis.train(data)\n",
    "while True:\n",
    "    request = input('You :')\n",
    "    if request.strip() != 'Bye':\n",
    "        response = jarvis.get_response(request)\n",
    "        print('Jarvis replied :',response)\n",
    "    if request.strip()=='Bye':\n",
    "        print('jarvis replied : Bye')\n",
    "        break"
   ]
  },
  {
   "cell_type": "code",
   "execution_count": null,
   "metadata": {},
   "outputs": [],
   "source": []
  }
 ],
 "metadata": {
  "kernelspec": {
   "display_name": "Python 3",
   "language": "python",
   "name": "python3"
  },
  "language_info": {
   "codemirror_mode": {
    "name": "ipython",
    "version": 3
   },
   "file_extension": ".py",
   "mimetype": "text/x-python",
   "name": "python",
   "nbconvert_exporter": "python",
   "pygments_lexer": "ipython3",
   "version": "3.6.3"
  }
 },
 "nbformat": 4,
 "nbformat_minor": 2
}
